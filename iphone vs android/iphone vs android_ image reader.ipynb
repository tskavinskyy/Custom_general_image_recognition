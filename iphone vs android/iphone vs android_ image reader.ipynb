{
 "cells": [
  {
   "cell_type": "code",
   "execution_count": null,
   "metadata": {},
   "outputs": [],
   "source": [
    "### https://stackoverflow.com/questions/35809554/how-to-download-google-image-search-results-in-python"
   ]
  },
  {
   "cell_type": "code",
   "execution_count": 1,
   "metadata": {},
   "outputs": [],
   "source": [
    "\n",
    "\n",
    "\n",
    "import pandas as pd\n",
    "\n",
    "\n",
    "import matplotlib.pyplot as plt\n",
    "from matplotlib.pyplot import figure\n",
    "import numpy as np\n",
    "\n",
    "\n",
    "import time\n",
    "from collections import Counter\n",
    "import datetime\n",
    "from skimage import io       \n",
    "from icrawler.builtin import GoogleImageCrawler\n",
    "\n",
    "import PIL\n",
    "from PIL import Image\n",
    "import glob"
   ]
  },
  {
   "cell_type": "code",
   "execution_count": 3,
   "metadata": {},
   "outputs": [],
   "source": [
    "keyword='iphone'\n",
    "path=\"C:/Users/taras/Desktop/Vision_learning/general image/general image/data/\"+keyword\n",
    "\n",
    "####https://medium.com/@kadek/elegantly-reading-multiple-csvs-into-pandas-e1a76843b688\n",
    "\n",
    "files = glob.glob(path+'/*')\n",
    "df = pd.DataFrame()\n",
    "df['image_path']=files\n"
   ]
  },
  {
   "cell_type": "code",
   "execution_count": 4,
   "metadata": {},
   "outputs": [],
   "source": [
    "def download_images(keyword,max_num):\n",
    "   ## keyword='cat'\n",
    "    path=\"C:/Users/taras/Desktop/histolines/data/general image/data/\"+keyword\n",
    "    #### Download images\n",
    "    google_crawler = GoogleImageCrawler(storage={'root_dir': path})\n",
    "    google_crawler.crawl(keyword=keyword, max_num=max_num)\n",
    "\n",
    "    files = glob.glob(path+'/*')\n",
    "    df = pd.DataFrame()\n",
    "    df['image_path']=files\n",
    "\n",
    "    ### looping though all images by keyword\n",
    "\n",
    "    desired_size = 200\n",
    "    images_data=[]\n",
    "    cat=[]\n",
    "    for name in df['image_path']:\n",
    "        name=name.replace(\"\\\\\", \"/\", 1)\n",
    "        im=Image.open(name)\n",
    "        ##print (name)\n",
    "        old_size = im.size  # old_size[0] is in (width, height) format\n",
    "        ratio = float(desired_size)/max(old_size)\n",
    "        new_size = tuple([int(x*ratio) for x in old_size])\n",
    "        # use thumbnail() or resize() method to resize the input image\n",
    "\n",
    "        # thumbnail is a in-place operation\n",
    "\n",
    "        # im.thumbnail(new_size, Image.ANTIALIAS)\n",
    "\n",
    "        im = im.resize(new_size, Image.ANTIALIAS)\n",
    "        # create a new image and paste the resized on it\n",
    "\n",
    "        new_im = Image.new(\"RGB\", (desired_size, desired_size))\n",
    "        new_im.paste(im, ((desired_size-new_size[0])//2,\n",
    "                            (desired_size-new_size[1])//2))\n",
    "        images_data.append(np.array(new_im))\n",
    "        cat.append(keyword)\n",
    "        plt.imshow(new_im)\n",
    "    df['cat']=cat\n",
    "    df['images_data']=images_data\n",
    "    return df"
   ]
  },
  {
   "cell_type": "code",
   "execution_count": 8,
   "metadata": {
    "scrolled": true
   },
   "outputs": [
    {
     "name": "stderr",
     "output_type": "stream",
     "text": [
      "2021-01-30 19:04:40,777 - INFO - icrawler.crawler - start crawling...\n",
      "2021-01-30 19:04:40,778 - INFO - icrawler.crawler - starting 1 feeder threads...\n",
      "2021-01-30 19:04:40,786 - INFO - icrawler.crawler - starting 1 parser threads...\n",
      "2021-01-30 19:04:40,788 - INFO - icrawler.crawler - starting 1 downloader threads...\n",
      "2021-01-30 19:04:41,504 - INFO - parser - parsing result page https://www.google.com/search?q=galaxy+s9&ijn=0&start=0&tbs=&tbm=isch\n",
      "2021-01-30 19:04:41,940 - INFO - parser - parsing result page https://www.google.com/search?q=galaxy+s9&ijn=1&start=100&tbs=&tbm=isch\n",
      "2021-01-30 19:04:42,498 - INFO - parser - parsing result page https://www.google.com/search?q=galaxy+s9&ijn=2&start=200&tbs=&tbm=isch\n",
      "2021-01-30 19:04:43,549 - INFO - parser - parsing result page https://www.google.com/search?q=galaxy+s9&ijn=3&start=300&tbs=&tbm=isch\n",
      "2021-01-30 19:04:43,555 - INFO - feeder - thread feeder-001 exit\n",
      "2021-01-30 19:04:44,216 - INFO - parser - parsing result page https://www.google.com/search?q=galaxy+s9&ijn=4&start=400&tbs=&tbm=isch\n",
      "2021-01-30 19:04:45,107 - INFO - parser - parsing result page https://www.google.com/search?q=galaxy+s9&ijn=5&start=500&tbs=&tbm=isch\n",
      "2021-01-30 19:04:45,793 - INFO - downloader - downloader-001 is waiting for new download tasks\n",
      "2021-01-30 19:04:46,068 - INFO - parser - parsing result page https://www.google.com/search?q=galaxy+s9&ijn=6&start=600&tbs=&tbm=isch\n",
      "2021-01-30 19:04:46,868 - INFO - parser - parsing result page https://www.google.com/search?q=galaxy+s9&ijn=7&start=700&tbs=&tbm=isch\n",
      "2021-01-30 19:04:47,848 - INFO - parser - parsing result page https://www.google.com/search?q=galaxy+s9&ijn=8&start=800&tbs=&tbm=isch\n",
      "2021-01-30 19:04:48,720 - INFO - parser - parsing result page https://www.google.com/search?q=galaxy+s9&ijn=9&start=900&tbs=&tbm=isch\n",
      "2021-01-30 19:04:50,722 - INFO - parser - no more page urls for thread parser-001 to parse\n",
      "2021-01-30 19:04:50,724 - INFO - parser - thread parser-001 exit\n",
      "2021-01-30 19:04:50,802 - INFO - downloader - no more download task for thread downloader-001\n",
      "2021-01-30 19:04:50,802 - INFO - downloader - thread downloader-001 exit\n",
      "2021-01-30 19:04:51,801 - INFO - icrawler.crawler - Crawling task done!\n"
     ]
    }
   ],
   "source": [
    "df=download_images('galaxy s9',1000)\n",
    "df_full=df"
   ]
  },
  {
   "cell_type": "code",
   "execution_count": 10,
   "metadata": {},
   "outputs": [
    {
     "name": "stderr",
     "output_type": "stream",
     "text": [
      "2021-01-30 19:05:28,385 - INFO - icrawler.crawler - start crawling...\n",
      "2021-01-30 19:05:28,386 - INFO - icrawler.crawler - starting 1 feeder threads...\n",
      "2021-01-30 19:05:28,390 - INFO - icrawler.crawler - starting 1 parser threads...\n",
      "2021-01-30 19:05:28,392 - INFO - icrawler.crawler - starting 1 downloader threads...\n",
      "2021-01-30 19:05:28,825 - INFO - parser - parsing result page https://www.google.com/search?q=iphone11&ijn=0&start=0&tbs=&tbm=isch\n",
      "2021-01-30 19:05:29,188 - INFO - parser - parsing result page https://www.google.com/search?q=iphone11&ijn=1&start=100&tbs=&tbm=isch\n",
      "2021-01-30 19:05:29,593 - INFO - parser - parsing result page https://www.google.com/search?q=iphone11&ijn=2&start=200&tbs=&tbm=isch\n",
      "2021-01-30 19:05:30,015 - INFO - parser - parsing result page https://www.google.com/search?q=iphone11&ijn=3&start=300&tbs=&tbm=isch\n",
      "2021-01-30 19:05:30,017 - INFO - feeder - thread feeder-001 exit\n",
      "2021-01-30 19:05:30,392 - INFO - parser - parsing result page https://www.google.com/search?q=iphone11&ijn=4&start=400&tbs=&tbm=isch\n",
      "2021-01-30 19:05:30,783 - INFO - parser - parsing result page https://www.google.com/search?q=iphone11&ijn=5&start=500&tbs=&tbm=isch\n",
      "2021-01-30 19:05:31,206 - INFO - parser - parsing result page https://www.google.com/search?q=iphone11&ijn=6&start=600&tbs=&tbm=isch\n",
      "2021-01-30 19:05:31,610 - INFO - parser - parsing result page https://www.google.com/search?q=iphone11&ijn=7&start=700&tbs=&tbm=isch\n",
      "2021-01-30 19:05:32,214 - INFO - parser - parsing result page https://www.google.com/search?q=iphone11&ijn=8&start=800&tbs=&tbm=isch\n",
      "2021-01-30 19:05:32,579 - INFO - parser - parsing result page https://www.google.com/search?q=iphone11&ijn=9&start=900&tbs=&tbm=isch\n",
      "2021-01-30 19:05:33,399 - INFO - downloader - downloader-001 is waiting for new download tasks\n",
      "2021-01-30 19:05:34,584 - INFO - parser - no more page urls for thread parser-001 to parse\n",
      "2021-01-30 19:05:34,585 - INFO - parser - thread parser-001 exit\n",
      "2021-01-30 19:05:38,407 - INFO - downloader - no more download task for thread downloader-001\n",
      "2021-01-30 19:05:38,408 - INFO - downloader - thread downloader-001 exit\n",
      "2021-01-30 19:05:39,407 - INFO - icrawler.crawler - Crawling task done!\n"
     ]
    }
   ],
   "source": [
    "df=download_images(\"iphone11\",1000)\n",
    "df_full =pd.concat([df_full, df], ignore_index=True)"
   ]
  },
  {
   "cell_type": "code",
   "execution_count": 12,
   "metadata": {},
   "outputs": [
    {
     "data": {
      "text/html": [
       "<div>\n",
       "<style scoped>\n",
       "    .dataframe tbody tr th:only-of-type {\n",
       "        vertical-align: middle;\n",
       "    }\n",
       "\n",
       "    .dataframe tbody tr th {\n",
       "        vertical-align: top;\n",
       "    }\n",
       "\n",
       "    .dataframe thead th {\n",
       "        text-align: right;\n",
       "    }\n",
       "</style>\n",
       "<table border=\"1\" class=\"dataframe\">\n",
       "  <thead>\n",
       "    <tr style=\"text-align: right;\">\n",
       "      <th></th>\n",
       "      <th>image_path</th>\n",
       "      <th>cat</th>\n",
       "      <th>images_data</th>\n",
       "    </tr>\n",
       "  </thead>\n",
       "  <tbody>\n",
       "    <tr>\n",
       "      <th>count</th>\n",
       "      <td>0.0</td>\n",
       "      <td>0.0</td>\n",
       "      <td>0.0</td>\n",
       "    </tr>\n",
       "    <tr>\n",
       "      <th>mean</th>\n",
       "      <td>NaN</td>\n",
       "      <td>NaN</td>\n",
       "      <td>NaN</td>\n",
       "    </tr>\n",
       "    <tr>\n",
       "      <th>std</th>\n",
       "      <td>NaN</td>\n",
       "      <td>NaN</td>\n",
       "      <td>NaN</td>\n",
       "    </tr>\n",
       "    <tr>\n",
       "      <th>min</th>\n",
       "      <td>NaN</td>\n",
       "      <td>NaN</td>\n",
       "      <td>NaN</td>\n",
       "    </tr>\n",
       "    <tr>\n",
       "      <th>25%</th>\n",
       "      <td>NaN</td>\n",
       "      <td>NaN</td>\n",
       "      <td>NaN</td>\n",
       "    </tr>\n",
       "    <tr>\n",
       "      <th>50%</th>\n",
       "      <td>NaN</td>\n",
       "      <td>NaN</td>\n",
       "      <td>NaN</td>\n",
       "    </tr>\n",
       "    <tr>\n",
       "      <th>75%</th>\n",
       "      <td>NaN</td>\n",
       "      <td>NaN</td>\n",
       "      <td>NaN</td>\n",
       "    </tr>\n",
       "    <tr>\n",
       "      <th>max</th>\n",
       "      <td>NaN</td>\n",
       "      <td>NaN</td>\n",
       "      <td>NaN</td>\n",
       "    </tr>\n",
       "  </tbody>\n",
       "</table>\n",
       "</div>"
      ],
      "text/plain": [
       "       image_path  cat  images_data\n",
       "count         0.0  0.0          0.0\n",
       "mean          NaN  NaN          NaN\n",
       "std           NaN  NaN          NaN\n",
       "min           NaN  NaN          NaN\n",
       "25%           NaN  NaN          NaN\n",
       "50%           NaN  NaN          NaN\n",
       "75%           NaN  NaN          NaN\n",
       "max           NaN  NaN          NaN"
      ]
     },
     "execution_count": 12,
     "metadata": {},
     "output_type": "execute_result"
    }
   ],
   "source": [
    "df_full.describe()"
   ]
  },
  {
   "cell_type": "code",
   "execution_count": 10,
   "metadata": {},
   "outputs": [],
   "source": [
    "import pickle   "
   ]
  },
  {
   "cell_type": "code",
   "execution_count": 11,
   "metadata": {},
   "outputs": [],
   "source": [
    "import pickle   \n",
    "output = open('image_dataframe.pkl', 'wb')\n",
    "pickle.dump(df_full, output)\n",
    "output.close()  "
   ]
  },
  {
   "cell_type": "code",
   "execution_count": null,
   "metadata": {},
   "outputs": [],
   "source": []
  }
 ],
 "metadata": {
  "kernelspec": {
   "display_name": "Python 3",
   "language": "python",
   "name": "python3"
  },
  "language_info": {
   "codemirror_mode": {
    "name": "ipython",
    "version": 3
   },
   "file_extension": ".py",
   "mimetype": "text/x-python",
   "name": "python",
   "nbconvert_exporter": "python",
   "pygments_lexer": "ipython3",
   "version": "3.6.8"
  }
 },
 "nbformat": 4,
 "nbformat_minor": 2
}
