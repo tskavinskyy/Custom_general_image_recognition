{
 "cells": [
  {
   "cell_type": "code",
   "execution_count": 1,
   "metadata": {},
   "outputs": [
    {
     "name": "stderr",
     "output_type": "stream",
     "text": [
      "Using TensorFlow backend.\n"
     ]
    }
   ],
   "source": [
    "import requests\n",
    "import pandas as pd\n",
    "\n",
    "import os\n",
    "import numpy as np\n",
    "import skimage\n",
    "import matplotlib.pyplot as plt\n",
    "%matplotlib inline\n",
    "from skimage import data, io, filters, color, exposure\n",
    "\n",
    "\n",
    "from numpy import array\n",
    "import pickle  \n",
    "\n",
    "import keras\n",
    "##from keras.datasets import mnist\n",
    "from keras.models import Sequential\n",
    "from keras.layers import Dense, Dropout, Flatten\n",
    "from keras.layers import Conv2D, MaxPooling2D\n",
    "from keras import backend as K\n",
    "##import tensorflow as tf\n",
    "\n",
    "from pandas_ml import ConfusionMatrix"
   ]
  },
  {
   "cell_type": "code",
   "execution_count": 2,
   "metadata": {},
   "outputs": [],
   "source": [
    "import sklearn"
   ]
  },
  {
   "cell_type": "code",
   "execution_count": 3,
   "metadata": {},
   "outputs": [
    {
     "name": "stdout",
     "output_type": "stream",
     "text": [
      " Volume in drive C is Windows\n",
      " Volume Serial Number is 7C0D-FBBE\n",
      "\n",
      " Directory of C:\\Users\\taras\\Desktop\\histolines\\data\\general image\n",
      "\n",
      "2019-11-17  06:35 PM            55,886  iphone vs android image classifier.ipynb\n",
      "2019-11-17  06:33 PM           241,466  iphone vs android_ image reader.ipynb\n",
      "2019-11-17  06:37 PM    <DIR>          .\n",
      "2019-11-17  06:37 PM    <DIR>          ..\n",
      "2019-11-17  06:37 PM    <DIR>          .ipynb_checkpoints\n",
      "2019-11-17  06:25 PM    <DIR>          data\n",
      "2019-11-17  06:13 PM           181,424 image classifier.ipynb\n",
      "2019-11-17  11:55 AM           310,566 image reader.ipynb\n",
      "2019-11-17  05:10 PM           337,485 image reader_general.ipynb\n",
      "2019-11-17  05:48 PM           294,801 image reader_general_concice.ipynb\n",
      "2019-11-17  06:32 PM       105,617,912 image_dataframe.pkl\n",
      "               7 File(s)    107,039,540 bytes\n",
      "               4 Dir(s)  511,950,991,360 bytes free\n"
     ]
    }
   ],
   "source": [
    "%ls"
   ]
  },
  {
   "cell_type": "code",
   "execution_count": 4,
   "metadata": {},
   "outputs": [],
   "source": [
    "\n",
    "pkl_file = open('image_dataframe.pkl', 'rb')  \n",
    "data= pickle.load(pkl_file)\n",
    "pkl_file.close()  \n"
   ]
  },
  {
   "cell_type": "code",
   "execution_count": 5,
   "metadata": {},
   "outputs": [
    {
     "data": {
      "text/html": [
       "<div>\n",
       "<style scoped>\n",
       "    .dataframe tbody tr th:only-of-type {\n",
       "        vertical-align: middle;\n",
       "    }\n",
       "\n",
       "    .dataframe tbody tr th {\n",
       "        vertical-align: top;\n",
       "    }\n",
       "\n",
       "    .dataframe thead th {\n",
       "        text-align: right;\n",
       "    }\n",
       "</style>\n",
       "<table border=\"1\" class=\"dataframe\">\n",
       "  <thead>\n",
       "    <tr style=\"text-align: right;\">\n",
       "      <th></th>\n",
       "      <th>image_path</th>\n",
       "      <th>cat</th>\n",
       "      <th>images_data</th>\n",
       "    </tr>\n",
       "  </thead>\n",
       "  <tbody>\n",
       "    <tr>\n",
       "      <th>0</th>\n",
       "      <td>C:/Users/taras/Desktop/histolines/data/general...</td>\n",
       "      <td>galaxy s9</td>\n",
       "      <td>[[[0, 0, 0], [0, 0, 0], [0, 0, 0], [0, 0, 0], ...</td>\n",
       "    </tr>\n",
       "    <tr>\n",
       "      <th>1</th>\n",
       "      <td>C:/Users/taras/Desktop/histolines/data/general...</td>\n",
       "      <td>galaxy s9</td>\n",
       "      <td>[[[0, 0, 0], [0, 0, 0], [0, 0, 0], [0, 0, 0], ...</td>\n",
       "    </tr>\n",
       "    <tr>\n",
       "      <th>2</th>\n",
       "      <td>C:/Users/taras/Desktop/histolines/data/general...</td>\n",
       "      <td>galaxy s9</td>\n",
       "      <td>[[[0, 0, 0], [0, 0, 0], [0, 0, 0], [0, 0, 0], ...</td>\n",
       "    </tr>\n",
       "    <tr>\n",
       "      <th>3</th>\n",
       "      <td>C:/Users/taras/Desktop/histolines/data/general...</td>\n",
       "      <td>galaxy s9</td>\n",
       "      <td>[[[0, 0, 0], [0, 0, 0], [0, 0, 0], [0, 0, 0], ...</td>\n",
       "    </tr>\n",
       "    <tr>\n",
       "      <th>4</th>\n",
       "      <td>C:/Users/taras/Desktop/histolines/data/general...</td>\n",
       "      <td>galaxy s9</td>\n",
       "      <td>[[[0, 0, 0], [0, 0, 0], [0, 0, 0], [0, 0, 0], ...</td>\n",
       "    </tr>\n",
       "  </tbody>\n",
       "</table>\n",
       "</div>"
      ],
      "text/plain": [
       "                                          image_path        cat  \\\n",
       "0  C:/Users/taras/Desktop/histolines/data/general...  galaxy s9   \n",
       "1  C:/Users/taras/Desktop/histolines/data/general...  galaxy s9   \n",
       "2  C:/Users/taras/Desktop/histolines/data/general...  galaxy s9   \n",
       "3  C:/Users/taras/Desktop/histolines/data/general...  galaxy s9   \n",
       "4  C:/Users/taras/Desktop/histolines/data/general...  galaxy s9   \n",
       "\n",
       "                                         images_data  \n",
       "0  [[[0, 0, 0], [0, 0, 0], [0, 0, 0], [0, 0, 0], ...  \n",
       "1  [[[0, 0, 0], [0, 0, 0], [0, 0, 0], [0, 0, 0], ...  \n",
       "2  [[[0, 0, 0], [0, 0, 0], [0, 0, 0], [0, 0, 0], ...  \n",
       "3  [[[0, 0, 0], [0, 0, 0], [0, 0, 0], [0, 0, 0], ...  \n",
       "4  [[[0, 0, 0], [0, 0, 0], [0, 0, 0], [0, 0, 0], ...  "
      ]
     },
     "execution_count": 5,
     "metadata": {},
     "output_type": "execute_result"
    }
   ],
   "source": [
    "data.head()"
   ]
  },
  {
   "cell_type": "code",
   "execution_count": 6,
   "metadata": {},
   "outputs": [
    {
     "data": {
      "text/plain": [
       "(879, 200, 200)"
      ]
     },
     "execution_count": 6,
     "metadata": {},
     "output_type": "execute_result"
    }
   ],
   "source": [
    "all_image_gray=[]\n",
    "for image in data['images_data']:\n",
    "    all_image_gray.append(color.rgb2gray(image))\n",
    "all_images_gray_array=array(all_image_gray)   \n",
    "all_images_gray_array.shape\n",
    "\n"
   ]
  },
  {
   "cell_type": "code",
   "execution_count": 7,
   "metadata": {},
   "outputs": [
    {
     "data": {
      "text/plain": [
       "(879, 200, 200)"
      ]
     },
     "execution_count": 7,
     "metadata": {},
     "output_type": "execute_result"
    }
   ],
   "source": [
    "all_images_gray_array.shape\n"
   ]
  },
  {
   "cell_type": "code",
   "execution_count": 8,
   "metadata": {},
   "outputs": [
    {
     "data": {
      "text/plain": [
       "<matplotlib.image.AxesImage at 0x293e9be6d68>"
      ]
     },
     "execution_count": 8,
     "metadata": {},
     "output_type": "execute_result"
    },
    {
     "data": {
      "image/png": "[encoded data removed]",
      "text/plain": [
       "<Figure size 432x288 with 1 Axes>"
      ]
     },
     "metadata": {
      "needs_background": "light"
     },
     "output_type": "display_data"
    }
   ],
   "source": [
    "plt.imshow((all_images_gray_array[1]))"
   ]
  },
  {
   "cell_type": "code",
   "execution_count": 9,
   "metadata": {},
   "outputs": [
    {
     "data": {
      "text/plain": [
       "iphone11     462\n",
       "galaxy s9    417\n",
       "dtype: int64"
      ]
     },
     "execution_count": 9,
     "metadata": {},
     "output_type": "execute_result"
    }
   ],
   "source": [
    "file_names_array=array(data['cat']) \n",
    "pd.value_counts(pd.Series(file_names_array))"
   ]
  },
  {
   "cell_type": "code",
   "execution_count": 10,
   "metadata": {},
   "outputs": [],
   "source": [
    "from sklearn.preprocessing import LabelBinarizer\n",
    "encoder = LabelBinarizer()\n",
    "file_names_array_cat= encoder.fit_transform(file_names_array)\n",
    "\n",
    "##print(file_names_array_cat)"
   ]
  },
  {
   "cell_type": "code",
   "execution_count": 11,
   "metadata": {},
   "outputs": [],
   "source": [
    "from sklearn.model_selection import train_test_split\n",
    "x_train, x_test, y_train, y_test = train_test_split(all_images_gray_array, file_names_array, test_size=0.3)\n"
   ]
  },
  {
   "cell_type": "code",
   "execution_count": 12,
   "metadata": {},
   "outputs": [
    {
     "name": "stdout",
     "output_type": "stream",
     "text": [
      "x_train shape: (615, 200, 200, 1)\n",
      "615 train samples\n",
      "264 test samples\n"
     ]
    }
   ],
   "source": [
    "img_rows, img_cols = 200, 200\n",
    "if K.image_data_format() == 'channels_first':\n",
    "    x_train = x_train.reshape(x_train.shape[0], 1, img_rows, img_cols)\n",
    "    x_test = x_test.reshape(x_test.shape[0], 1, img_rows, img_cols)\n",
    "    input_shape = (1, img_rows, img_cols)\n",
    "else:\n",
    "    x_train = x_train.reshape(x_train.shape[0], img_rows, img_cols, 1)\n",
    "    x_test = x_test.reshape(x_test.shape[0], img_rows, img_cols, 1)\n",
    "    input_shape = (img_rows, img_cols, 1)\n",
    "\n",
    "x_train = x_train.astype('float32')\n",
    "x_test = x_test.astype('float32')\n",
    "##x_train /= 255\n",
    "##x_test /= 255\n",
    "print('x_train shape:', x_train.shape)\n",
    "print(x_train.shape[0], 'train samples')\n",
    "print(x_test.shape[0], 'test samples')\n"
   ]
  },
  {
   "cell_type": "code",
   "execution_count": 13,
   "metadata": {
    "scrolled": false
   },
   "outputs": [],
   "source": [
    "from sklearn.preprocessing import LabelBinarizer\n",
    "encoder = LabelBinarizer()\n",
    "y_train= encoder.fit_transform(y_train)\n",
    "y_train=np.hstack((y_train, 1 - y_train))\n",
    "y_test= encoder.fit_transform(y_test)\n",
    "y_test=np.hstack((y_test, 1 - y_test))\n",
    "##print(y_train)"
   ]
  },
  {
   "cell_type": "code",
   "execution_count": 14,
   "metadata": {},
   "outputs": [
    {
     "data": {
      "text/plain": [
       "2460"
      ]
     },
     "execution_count": 14,
     "metadata": {},
     "output_type": "execute_result"
    }
   ],
   "source": [
    "x_train_rot=[]\n",
    "y_train_rot=[]\n",
    "for i in range(len(x_train)):\n",
    "    x_train_rot.append(x_train[i])\n",
    "    y_train_rot.append(y_train[i])\n",
    "               \n",
    "    x_train_rot.append(x_train[i][::-1,:,:])\n",
    "    y_train_rot.append(y_train[i])\n",
    "    \n",
    "    x_train_rot.append(x_train[i][:,::-1,:])\n",
    "    y_train_rot.append(y_train[i])\n",
    "               \n",
    "    x_train_rot.append(x_train[i].transpose([1,0,2]))\n",
    "    y_train_rot.append(y_train[i])\n",
    "x_train_rot = np.array(x_train_rot,dtype='float32')\n",
    "y_train_rot = np.array(y_train_rot,dtype='float32')\n",
    "len(x_train_rot)"
   ]
  },
  {
   "cell_type": "code",
   "execution_count": 15,
   "metadata": {},
   "outputs": [],
   "source": [
    "\n",
    "from pandas_ml import ConfusionMatrix\n",
    "def model_eval():\n",
    "    score = model.evaluate(x_test, y_test, verbose=0)\n",
    "\n",
    "    print('Test loss:', score[0])\n",
    "    print('Test accuracy:', score[1])\n",
    "\n",
    "    plt.figure(figsize=[8,6])\n",
    "    plt.plot(history.history['loss'],'r',linewidth=3.0)\n",
    "    plt.plot(history.history['val_loss'],'b',linewidth=3.0)\n",
    "    plt.legend(['Training loss', 'Validation Loss'],fontsize=18)\n",
    "    plt.xlabel('Epochs ',fontsize=16)\n",
    "    plt.ylabel('Loss',fontsize=16)\n",
    "    plt.title('Loss Curves',fontsize=16)\n",
    "    # Accuracy Curves\n",
    "    plt.figure(figsize=[8,6])\n",
    "    plt.plot(history.history['acc'],'r',linewidth=3.0)\n",
    "    plt.plot(history.history['val_acc'],'b',linewidth=3.0)\n",
    "    plt.legend(['Training Accuracy', 'Validation Accuracy'],fontsize=18)\n",
    "    plt.xlabel('Epochs ',fontsize=16)\n",
    "    plt.ylabel('Accuracy',fontsize=16)\n",
    "    plt.title('Accuracy Curves',fontsize=16)\n",
    "    predicted_classes = model.predict_classes(x_test)\n",
    "    y_test_list=[]\n",
    "    for i in range(len(y_test)):\n",
    "        if ((y_test[i][0])==1):\n",
    "            y_test_list.append(1)\n",
    "        if ((y_test[i][1])==1):\n",
    "            y_test_list.append(2)\n",
    "\n",
    "    from sklearn.metrics import confusion_matrix\n",
    "    confusion_matrix(y_test_list,predicted_classes)\n",
    "    ### got from https://pandas-ml.readthedocs.io/en/latest/conf_mat.html\n",
    "\n",
    "    predicted_classes = model.predict_classes(x_test)\n",
    "    y_test_list=[]\n",
    "    for i in range(len(y_test)):\n",
    "        if ((y_test[i][0])==1):\n",
    "            y_test_list.append(\"no\")\n",
    "        if ((y_test[i][1])==1):\n",
    "            y_test_list.append(\"yes\")\n",
    "\n",
    "\n",
    "    ##from sklearn.metrics import confusion_matrix\n",
    "    ##confusion_matrix(y_test_list,predicted_classes)\n",
    "    predicted_classes_list=[]\n",
    "    for label in predicted_classes:\n",
    "\n",
    "        if (label==0):\n",
    "            predicted_classes_list.append(\"no\")\n",
    "        if (label==1):\n",
    "            predicted_classes_list.append(\"yes\")\n",
    "\n",
    "    confusion_matrix = ConfusionMatrix(y_test_list,predicted_classes_list)\n",
    "    print(\"Confusion matrix:\\n%s\" % confusion_matrix)\n",
    "    ##confusion_matrix.plot()\n",
    "    ##confusion_matrix.print_stats()"
   ]
  },
  {
   "cell_type": "code",
   "execution_count": 16,
   "metadata": {},
   "outputs": [],
   "source": [
    "# Training the model"
   ]
  },
  {
   "cell_type": "code",
   "execution_count": 17,
   "metadata": {},
   "outputs": [
    {
     "name": "stdout",
     "output_type": "stream",
     "text": [
      "_________________________________________________________________\n",
      "Layer (type)                 Output Shape              Param #   \n",
      "=================================================================\n",
      "conv2d_1 (Conv2D)            (None, 199, 199, 32)      160       \n",
      "_________________________________________________________________\n",
      "conv2d_2 (Conv2D)            (None, 196, 196, 32)      16416     \n",
      "_________________________________________________________________\n",
      "max_pooling2d_1 (MaxPooling2 (None, 49, 49, 32)        0         \n",
      "_________________________________________________________________\n",
      "dropout_1 (Dropout)          (None, 49, 49, 32)        0         \n",
      "_________________________________________________________________\n",
      "conv2d_3 (Conv2D)            (None, 42, 42, 32)        65568     \n",
      "_________________________________________________________________\n",
      "dropout_2 (Dropout)          (None, 42, 42, 32)        0         \n",
      "_________________________________________________________________\n",
      "conv2d_4 (Conv2D)            (None, 11, 11, 32)        1048608   \n",
      "_________________________________________________________________\n",
      "max_pooling2d_2 (MaxPooling2 (None, 5, 5, 32)          0         \n",
      "_________________________________________________________________\n",
      "dropout_3 (Dropout)          (None, 5, 5, 32)          0         \n",
      "_________________________________________________________________\n",
      "flatten_1 (Flatten)          (None, 800)               0         \n",
      "_________________________________________________________________\n",
      "dense_1 (Dense)              (None, 28)                22428     \n",
      "_________________________________________________________________\n",
      "dense_2 (Dense)              (None, 2)                 58        \n",
      "=================================================================\n",
      "Total params: 1,153,238\n",
      "Trainable params: 1,153,238\n",
      "Non-trainable params: 0\n",
      "_________________________________________________________________\n"
     ]
    }
   ],
   "source": [
    "batch_size =10\n",
    "##batch_size = 5\n",
    "num_classes = 2\n",
    "##epochs = 10\n",
    "epochs =20\n",
    "\n",
    "\n",
    "model = Sequential()\n",
    "model.add(Conv2D(32, kernel_size=(2, 2), activation='relu', input_shape=input_shape))\n",
    "model.add(Conv2D(32, kernel_size=(4, 4),activation='relu'))\n",
    "\n",
    "model.add(MaxPooling2D(pool_size=(4, 4)))\n",
    "model.add(Dropout(0.25))\n",
    "\n",
    "model.add(Conv2D(32, kernel_size=(8, 8), activation='relu'))\n",
    "\n",
    "model.add(Dropout(0.25))\n",
    "\n",
    "\n",
    "model.add(Conv2D(32, kernel_size=(32, 32),  activation='relu'))\n",
    "\n",
    "model.add(MaxPooling2D(pool_size=(2, 2)))\n",
    "model.add(Dropout(0.25))\n",
    "\n",
    "\n",
    "\n",
    "\n",
    "\n",
    "\n",
    "model.add(Flatten())\n",
    "model.add(Dense(28, activation='relu', kernel_initializer='he_uniform'))\n",
    "model.add(Dense(num_classes, activation='sigmoid'))\n",
    "\n",
    "\n",
    "\n",
    "model.compile(loss=keras.losses.categorical_crossentropy,\n",
    "              optimizer=keras.optimizers.Adadelta(),\n",
    "              metrics=['accuracy'])\n",
    "\n",
    "model.compile(loss=keras.losses.binary_crossentropy,\n",
    "              optimizer=keras.optimizers.Adadelta(),\n",
    "              metrics=['accuracy'])\n",
    "model.summary()"
   ]
  },
  {
   "cell_type": "code",
   "execution_count": 18,
   "metadata": {
    "scrolled": false
   },
   "outputs": [
    {
     "name": "stdout",
     "output_type": "stream",
     "text": [
      "Train on 2460 samples, validate on 264 samples\n",
      "Epoch 1/20\n",
      "2460/2460 [==============================] - 77s 31ms/step - loss: 0.6939 - acc: 0.5815 - val_loss: 0.6521 - val_acc: 0.6136\n",
      "Epoch 2/20\n",
      "2460/2460 [==============================] - 63s 26ms/step - loss: 0.6354 - acc: 0.6583 - val_loss: 0.6256 - val_acc: 0.6553\n",
      "Epoch 3/20\n",
      "2460/2460 [==============================] - 63s 26ms/step - loss: 0.6096 - acc: 0.6852 - val_loss: 0.6038 - val_acc: 0.6856\n",
      "Epoch 4/20\n",
      "2460/2460 [==============================] - 63s 26ms/step - loss: 0.5687 - acc: 0.7033 - val_loss: 0.6274 - val_acc: 0.6761\n",
      "Epoch 5/20\n",
      "2460/2460 [==============================] - 63s 26ms/step - loss: 0.5107 - acc: 0.7439 - val_loss: 0.5672 - val_acc: 0.7273\n",
      "Epoch 6/20\n",
      "2460/2460 [==============================] - 63s 26ms/step - loss: 0.4510 - acc: 0.7945 - val_loss: 0.6255 - val_acc: 0.7481\n",
      "Epoch 7/20\n",
      "2460/2460 [==============================] - 63s 26ms/step - loss: 0.3804 - acc: 0.8335 - val_loss: 0.5872 - val_acc: 0.7708\n",
      "Epoch 8/20\n",
      "2460/2460 [==============================] - 63s 26ms/step - loss: 0.3075 - acc: 0.8756 - val_loss: 0.6913 - val_acc: 0.7670\n",
      "Epoch 9/20\n",
      "2460/2460 [==============================] - 63s 26ms/step - loss: 0.2394 - acc: 0.9081 - val_loss: 0.6714 - val_acc: 0.7652\n",
      "Epoch 10/20\n",
      "2460/2460 [==============================] - 63s 26ms/step - loss: 0.1716 - acc: 0.9362 - val_loss: 1.0135 - val_acc: 0.7803\n",
      "Epoch 11/20\n",
      "2460/2460 [==============================] - 63s 26ms/step - loss: 0.1283 - acc: 0.9549 - val_loss: 1.0658 - val_acc: 0.7708\n",
      "Epoch 12/20\n",
      "2460/2460 [==============================] - 63s 26ms/step - loss: 0.0864 - acc: 0.9726 - val_loss: 1.2177 - val_acc: 0.7481\n",
      "Epoch 13/20\n",
      "2460/2460 [==============================] - 63s 26ms/step - loss: 0.0705 - acc: 0.9780 - val_loss: 1.3566 - val_acc: 0.7689\n",
      "Epoch 14/20\n",
      "2460/2460 [==============================] - 63s 26ms/step - loss: 0.0601 - acc: 0.9803 - val_loss: 1.2841 - val_acc: 0.7670\n",
      "Epoch 15/20\n",
      "2460/2460 [==============================] - 63s 26ms/step - loss: 0.0467 - acc: 0.9835 - val_loss: 1.6278 - val_acc: 0.7614\n",
      "Epoch 16/20\n",
      "2460/2460 [==============================] - 63s 26ms/step - loss: 0.0440 - acc: 0.9874 - val_loss: 1.6905 - val_acc: 0.7614\n",
      "Epoch 17/20\n",
      "2460/2460 [==============================] - 63s 26ms/step - loss: 0.0501 - acc: 0.9870 - val_loss: 1.3707 - val_acc: 0.7822\n",
      "Epoch 18/20\n",
      "2460/2460 [==============================] - 63s 26ms/step - loss: 0.0312 - acc: 0.9866 - val_loss: 1.5402 - val_acc: 0.7784\n",
      "Epoch 19/20\n",
      "2460/2460 [==============================] - 63s 26ms/step - loss: 0.0415 - acc: 0.9864 - val_loss: 1.6964 - val_acc: 0.7652\n",
      "Epoch 20/20\n",
      "2460/2460 [==============================] - 63s 26ms/step - loss: 0.0192 - acc: 0.9927 - val_loss: 1.8389 - val_acc: 0.7746\n",
      "Test loss: 1.8388981611439676\n",
      "Test accuracy: 0.7746212121212122\n",
      "Confusion matrix:\n",
      "Predicted  False  True  __all__\n",
      "Actual                         \n",
      "False          0     0        0\n",
      "True           0     0        0\n",
      "__all__        0     0        0\n"
     ]
    },
    {
     "data": {
      "image/png": "[encoded data removed]",
      "text/plain": [
       "<Figure size 576x432 with 1 Axes>"
      ]
     },
     "metadata": {
      "needs_background": "light"
     },
     "output_type": "display_data"
    },
    {
     "data": {
      "image/png": "[encoded data removed]",
      "text/plain": [
       "<Figure size 576x432 with 1 Axes>"
      ]
     },
     "metadata": {
      "needs_background": "light"
     },
     "output_type": "display_data"
    }
   ],
   "source": [
    "\n",
    "\n",
    "history = model.fit(x_train_rot, y_train_rot,\n",
    "          batch_size=batch_size,\n",
    "          epochs=epochs,\n",
    "          verbose=1,\n",
    "          validation_data=(x_test, y_test))\n",
    "model_eval()"
   ]
  },
  {
   "cell_type": "code",
   "execution_count": null,
   "metadata": {},
   "outputs": [],
   "source": []
  },
  {
   "cell_type": "code",
   "execution_count": null,
   "metadata": {},
   "outputs": [],
   "source": []
  }
 ],
 "metadata": {
  "kernelspec": {
   "display_name": "Python 3",
   "language": "python",
   "name": "python3"
  },
  "language_info": {
   "codemirror_mode": {
    "name": "ipython",
    "version": 3
   },
   "file_extension": ".py",
   "mimetype": "text/x-python",
   "name": "python",
   "nbconvert_exporter": "python",
   "pygments_lexer": "ipython3",
   "version": "3.6.8"
  }
 },
 "nbformat": 4,
 "nbformat_minor": 2
}
